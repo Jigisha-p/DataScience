{
 "cells": [
  {
   "cell_type": "code",
   "execution_count": 1,
   "id": "59c6cf47-12d8-4ae7-844b-0ae07dfd504b",
   "metadata": {},
   "outputs": [],
   "source": [
    "import pandas as pd\n",
    "import numpy as npb"
   ]
  },
  {
   "cell_type": "code",
   "execution_count": 2,
   "id": "469b2ac1",
   "metadata": {},
   "outputs": [
    {
     "data": {
      "text/html": [
       "<div>\n",
       "<style scoped>\n",
       "    .dataframe tbody tr th:only-of-type {\n",
       "        vertical-align: middle;\n",
       "    }\n",
       "\n",
       "    .dataframe tbody tr th {\n",
       "        vertical-align: top;\n",
       "    }\n",
       "\n",
       "    .dataframe thead th {\n",
       "        text-align: right;\n",
       "    }\n",
       "</style>\n",
       "<table border=\"1\" class=\"dataframe\">\n",
       "  <thead>\n",
       "    <tr style=\"text-align: right;\">\n",
       "      <th></th>\n",
       "      <th>ID</th>\n",
       "      <th>Names</th>\n",
       "      <th>Price</th>\n",
       "      <th>Sales</th>\n",
       "      <th>Brand</th>\n",
       "    </tr>\n",
       "  </thead>\n",
       "  <tbody>\n",
       "    <tr>\n",
       "      <th>0</th>\n",
       "      <td>101</td>\n",
       "      <td>biscuits</td>\n",
       "      <td>5.00</td>\n",
       "      <td>227.0</td>\n",
       "      <td>HomeFoods</td>\n",
       "    </tr>\n",
       "    <tr>\n",
       "      <th>1</th>\n",
       "      <td>102</td>\n",
       "      <td>cookies</td>\n",
       "      <td>7.25</td>\n",
       "      <td>158.0</td>\n",
       "      <td>TBakery</td>\n",
       "    </tr>\n",
       "    <tr>\n",
       "      <th>2</th>\n",
       "      <td>103</td>\n",
       "      <td>cake</td>\n",
       "      <td>12.00</td>\n",
       "      <td>50.0</td>\n",
       "      <td>TBakery</td>\n",
       "    </tr>\n",
       "    <tr>\n",
       "      <th>3</th>\n",
       "      <td>104</td>\n",
       "      <td>whey_supplement</td>\n",
       "      <td>34.90</td>\n",
       "      <td>24.0</td>\n",
       "      <td>MusleUp</td>\n",
       "    </tr>\n",
       "    <tr>\n",
       "      <th>4</th>\n",
       "      <td>105</td>\n",
       "      <td>soft_drink</td>\n",
       "      <td>NaN</td>\n",
       "      <td>NaN</td>\n",
       "      <td>Kola</td>\n",
       "    </tr>\n",
       "    <tr>\n",
       "      <th>5</th>\n",
       "      <td>106</td>\n",
       "      <td>potato_chips</td>\n",
       "      <td>1.75</td>\n",
       "      <td>121.0</td>\n",
       "      <td>HomeFoods</td>\n",
       "    </tr>\n",
       "    <tr>\n",
       "      <th>6</th>\n",
       "      <td>107</td>\n",
       "      <td>noodles</td>\n",
       "      <td>0.99</td>\n",
       "      <td>NaN</td>\n",
       "      <td>InstantNoodle</td>\n",
       "    </tr>\n",
       "    <tr>\n",
       "      <th>7</th>\n",
       "      <td>108</td>\n",
       "      <td>protein_bars</td>\n",
       "      <td>4.90</td>\n",
       "      <td>85.0</td>\n",
       "      <td>MusleUp</td>\n",
       "    </tr>\n",
       "  </tbody>\n",
       "</table>\n",
       "</div>"
      ],
      "text/plain": [
       "    ID            Names  Price  Sales          Brand\n",
       "0  101         biscuits   5.00  227.0      HomeFoods\n",
       "1  102          cookies   7.25  158.0        TBakery\n",
       "2  103             cake  12.00   50.0        TBakery\n",
       "3  104  whey_supplement  34.90   24.0        MusleUp\n",
       "4  105       soft_drink    NaN    NaN           Kola\n",
       "5  106     potato_chips   1.75  121.0      HomeFoods\n",
       "6  107          noodles   0.99    NaN  InstantNoodle\n",
       "7  108     protein_bars   4.90   85.0        MusleUp"
      ]
     },
     "execution_count": 2,
     "metadata": {},
     "output_type": "execute_result"
    }
   ],
   "source": [
    "dt=pd.read_csv('data/csv_data.csv', names=['ID','Names','Price','Sales','Brand'],skiprows=1)\n",
    "dt"
   ]
  },
  {
   "cell_type": "code",
   "execution_count": 3,
   "id": "4b03d741",
   "metadata": {},
   "outputs": [],
   "source": [
    "dt.fillna(0, inplace=True)"
   ]
  },
  {
   "cell_type": "code",
   "execution_count": 4,
   "id": "11e87261",
   "metadata": {},
   "outputs": [
    {
     "data": {
      "text/plain": [
       "665.0"
      ]
     },
     "execution_count": 4,
     "metadata": {},
     "output_type": "execute_result"
    }
   ],
   "source": [
    "# Sum of all Sales values\n",
    "dt['Sales'].sum()"
   ]
  },
  {
   "cell_type": "code",
   "execution_count": 5,
   "id": "f5c372e2",
   "metadata": {},
   "outputs": [
    {
     "data": {
      "text/plain": [
       "0.0"
      ]
     },
     "execution_count": 5,
     "metadata": {},
     "output_type": "execute_result"
    }
   ],
   "source": [
    "# Min Sales value\n",
    "dt['Sales'].min()"
   ]
  },
  {
   "cell_type": "code",
   "execution_count": 6,
   "id": "5279d172",
   "metadata": {},
   "outputs": [
    {
     "data": {
      "text/plain": [
       "227.0"
      ]
     },
     "execution_count": 6,
     "metadata": {},
     "output_type": "execute_result"
    }
   ],
   "source": [
    "# Max Sales value\n",
    "dt['Sales'].max()"
   ]
  },
  {
   "cell_type": "markdown",
   "id": "89225a9f",
   "metadata": {},
   "source": [
    "### Measures of Central Tendency"
   ]
  },
  {
   "cell_type": "code",
   "execution_count": 7,
   "id": "3574376d",
   "metadata": {},
   "outputs": [
    {
     "data": {
      "text/plain": [
       "83.125"
      ]
     },
     "execution_count": 7,
     "metadata": {},
     "output_type": "execute_result"
    }
   ],
   "source": [
    "# Average Sales value\n",
    "dt['Sales'].mean()"
   ]
  },
  {
   "cell_type": "code",
   "execution_count": 8,
   "id": "239636b9",
   "metadata": {},
   "outputs": [
    {
     "data": {
      "text/plain": [
       "67.5"
      ]
     },
     "execution_count": 8,
     "metadata": {},
     "output_type": "execute_result"
    }
   ],
   "source": [
    "# Middle Sales value\n",
    "dt['Sales'].median()"
   ]
  },
  {
   "cell_type": "code",
   "execution_count": 9,
   "id": "3b51b47b",
   "metadata": {},
   "outputs": [
    {
     "data": {
      "text/plain": [
       "0    0.0\n",
       "Name: Sales, dtype: float64"
      ]
     },
     "execution_count": 9,
     "metadata": {},
     "output_type": "execute_result"
    }
   ],
   "source": [
    "# Most Occuring Sales value\n",
    "dt['Sales'].mode()"
   ]
  },
  {
   "cell_type": "code",
   "execution_count": 10,
   "id": "4f5d1080",
   "metadata": {},
   "outputs": [
    {
     "data": {
      "text/plain": [
       "227.0"
      ]
     },
     "execution_count": 10,
     "metadata": {},
     "output_type": "execute_result"
    }
   ],
   "source": [
    "# Range of Sales value\n",
    "dt['Sales'].max() - dt['Sales'].min()\n",
    "#dt['Sales'].max() - 24"
   ]
  },
  {
   "cell_type": "code",
   "execution_count": 11,
   "id": "eeb71769",
   "metadata": {},
   "outputs": [
    {
     "data": {
      "text/html": [
       "<div>\n",
       "<style scoped>\n",
       "    .dataframe tbody tr th:only-of-type {\n",
       "        vertical-align: middle;\n",
       "    }\n",
       "\n",
       "    .dataframe tbody tr th {\n",
       "        vertical-align: top;\n",
       "    }\n",
       "\n",
       "    .dataframe thead th {\n",
       "        text-align: right;\n",
       "    }\n",
       "</style>\n",
       "<table border=\"1\" class=\"dataframe\">\n",
       "  <thead>\n",
       "    <tr style=\"text-align: right;\">\n",
       "      <th></th>\n",
       "      <th>Total Sales</th>\n",
       "      <th>Average Sales</th>\n",
       "      <th>Maximum Sale</th>\n",
       "    </tr>\n",
       "  </thead>\n",
       "  <tbody>\n",
       "    <tr>\n",
       "      <th>1</th>\n",
       "      <td>665.0</td>\n",
       "      <td>83.125</td>\n",
       "      <td>227.0</td>\n",
       "    </tr>\n",
       "  </tbody>\n",
       "</table>\n",
       "</div>"
      ],
      "text/plain": [
       "   Total Sales  Average Sales  Maximum Sale\n",
       "1        665.0         83.125         227.0"
      ]
     },
     "execution_count": 11,
     "metadata": {},
     "output_type": "execute_result"
    }
   ],
   "source": [
    "analytics = pd.DataFrame({'Total Sales': dt['Sales'].sum(),\n",
    "                          'Average Sales' : dt['Sales'].mean(),\n",
    "                          'Maximum Sale' : dt['Sales'].max()},\n",
    "                         index = [1])\n",
    "analytics"
   ]
  },
  {
   "cell_type": "code",
   "execution_count": 12,
   "id": "b92c92dc",
   "metadata": {},
   "outputs": [
    {
     "data": {
      "text/html": [
       "<div>\n",
       "<style scoped>\n",
       "    .dataframe tbody tr th:only-of-type {\n",
       "        vertical-align: middle;\n",
       "    }\n",
       "\n",
       "    .dataframe tbody tr th {\n",
       "        vertical-align: top;\n",
       "    }\n",
       "\n",
       "    .dataframe thead th {\n",
       "        text-align: right;\n",
       "    }\n",
       "</style>\n",
       "<table border=\"1\" class=\"dataframe\">\n",
       "  <thead>\n",
       "    <tr style=\"text-align: right;\">\n",
       "      <th></th>\n",
       "      <th>ID</th>\n",
       "      <th>Price</th>\n",
       "      <th>Sales</th>\n",
       "    </tr>\n",
       "  </thead>\n",
       "  <tbody>\n",
       "    <tr>\n",
       "      <th>count</th>\n",
       "      <td>8.00000</td>\n",
       "      <td>8.00000</td>\n",
       "      <td>8.000000</td>\n",
       "    </tr>\n",
       "    <tr>\n",
       "      <th>mean</th>\n",
       "      <td>104.50000</td>\n",
       "      <td>8.34875</td>\n",
       "      <td>83.125000</td>\n",
       "    </tr>\n",
       "    <tr>\n",
       "      <th>std</th>\n",
       "      <td>2.44949</td>\n",
       "      <td>11.40183</td>\n",
       "      <td>81.202459</td>\n",
       "    </tr>\n",
       "    <tr>\n",
       "      <th>min</th>\n",
       "      <td>101.00000</td>\n",
       "      <td>0.00000</td>\n",
       "      <td>0.000000</td>\n",
       "    </tr>\n",
       "    <tr>\n",
       "      <th>25%</th>\n",
       "      <td>102.75000</td>\n",
       "      <td>1.56000</td>\n",
       "      <td>18.000000</td>\n",
       "    </tr>\n",
       "    <tr>\n",
       "      <th>50%</th>\n",
       "      <td>104.50000</td>\n",
       "      <td>4.95000</td>\n",
       "      <td>67.500000</td>\n",
       "    </tr>\n",
       "    <tr>\n",
       "      <th>75%</th>\n",
       "      <td>106.25000</td>\n",
       "      <td>8.43750</td>\n",
       "      <td>130.250000</td>\n",
       "    </tr>\n",
       "    <tr>\n",
       "      <th>max</th>\n",
       "      <td>108.00000</td>\n",
       "      <td>34.90000</td>\n",
       "      <td>227.000000</td>\n",
       "    </tr>\n",
       "  </tbody>\n",
       "</table>\n",
       "</div>"
      ],
      "text/plain": [
       "              ID     Price       Sales\n",
       "count    8.00000   8.00000    8.000000\n",
       "mean   104.50000   8.34875   83.125000\n",
       "std      2.44949  11.40183   81.202459\n",
       "min    101.00000   0.00000    0.000000\n",
       "25%    102.75000   1.56000   18.000000\n",
       "50%    104.50000   4.95000   67.500000\n",
       "75%    106.25000   8.43750  130.250000\n",
       "max    108.00000  34.90000  227.000000"
      ]
     },
     "execution_count": 12,
     "metadata": {},
     "output_type": "execute_result"
    }
   ],
   "source": [
    "dt.describe()"
   ]
  },
  {
   "cell_type": "markdown",
   "id": "7f85ab23",
   "metadata": {},
   "source": [
    "### Please Refer this for Advanced EDA and Reporting using Panda Profiling, Statsmodel: \n",
    "### https://github.com/Jigisha-p/Olist_Analysis/blob/master/exploratory_analysis.ipynb"
   ]
  }
 ],
 "metadata": {
  "kernelspec": {
   "display_name": "Python 3 (ipykernel)",
   "language": "python",
   "name": "python3"
  },
  "language_info": {
   "codemirror_mode": {
    "name": "ipython",
    "version": 3
   },
   "file_extension": ".py",
   "mimetype": "text/x-python",
   "name": "python",
   "nbconvert_exporter": "python",
   "pygments_lexer": "ipython3",
   "version": "3.10.8"
  },
  "vscode": {
   "interpreter": {
    "hash": "6d3455b64add104533d44b8de3a67406353957e0918ca2161a30cd043c50dfdc"
   }
  }
 },
 "nbformat": 4,
 "nbformat_minor": 5
}

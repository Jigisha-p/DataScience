{
 "cells": [
  {
   "cell_type": "code",
   "execution_count": 11,
   "id": "f1584c8d-b9b5-4992-965c-ffa28f245904",
   "metadata": {},
   "outputs": [],
   "source": [
    "import pandas as pd\n",
    "import numpy as np"
   ]
  },
  {
   "cell_type": "markdown",
   "id": "15d917f8",
   "metadata": {},
   "source": [
    "# Pandas Series \n",
    "(Indexed Array)"
   ]
  },
  {
   "cell_type": "code",
   "execution_count": 12,
   "id": "f6d57026",
   "metadata": {},
   "outputs": [
    {
     "name": "stdout",
     "output_type": "stream",
     "text": [
      "0    12\n",
      "1    33\n",
      "2    45\n",
      "3    67\n",
      "dtype: int64\n"
     ]
    }
   ],
   "source": [
    "sr=pd.Series([12,33,45,67])\n",
    "print(sr)"
   ]
  },
  {
   "cell_type": "code",
   "execution_count": 13,
   "id": "9acd2d0b",
   "metadata": {},
   "outputs": [
    {
     "name": "stdout",
     "output_type": "stream",
     "text": [
      "1    12\n",
      "2    33\n",
      "3    45\n",
      "4    67\n",
      "dtype: int64\n"
     ]
    }
   ],
   "source": [
    "sr=pd.Series([12,33,45,67],index=[1,2,3,4])\n",
    "print(sr)"
   ]
  },
  {
   "cell_type": "code",
   "execution_count": 14,
   "id": "f9deda96",
   "metadata": {},
   "outputs": [
    {
     "name": "stdout",
     "output_type": "stream",
     "text": [
      "a    12\n",
      "b    33\n",
      "c    45\n",
      "d    67\n",
      "dtype: int64\n"
     ]
    }
   ],
   "source": [
    "#Alphabet Index\n",
    "sr=pd.Series([12,33,45,67],index=['a','b','c','d'])\n",
    "print(sr)"
   ]
  },
  {
   "cell_type": "code",
   "execution_count": 15,
   "id": "49a64260",
   "metadata": {},
   "outputs": [
    {
     "name": "stdout",
     "output_type": "stream",
     "text": [
      "a    12.0\n",
      "b    33.0\n",
      "c    45.0\n",
      "d    67.0\n",
      "dtype: float64\n"
     ]
    }
   ],
   "source": [
    "sr=pd.Series([12,33,45,67],index=['a','b','c','d'],dtype=float)\n",
    "print(sr)"
   ]
  },
  {
   "cell_type": "markdown",
   "id": "e76c99a5",
   "metadata": {},
   "source": [
    "## n-darrays to Pandas Series"
   ]
  },
  {
   "cell_type": "code",
   "execution_count": 16,
   "id": "ce2d988b",
   "metadata": {},
   "outputs": [
    {
     "name": "stdout",
     "output_type": "stream",
     "text": [
      "a    1\n",
      "b    2\n",
      "c    3\n",
      "d    4\n",
      "e    5\n",
      "f    6\n",
      "dtype: int64\n"
     ]
    }
   ],
   "source": [
    "ar=np.array([1,2,3,4,5,6])\n",
    "sr=pd.Series(data=ar, index=['a','b','c','d','e','f'])\n",
    "print(sr)"
   ]
  },
  {
   "cell_type": "markdown",
   "id": "35f902ab",
   "metadata": {},
   "source": [
    "## Slicing values from Pandas Series"
   ]
  },
  {
   "cell_type": "code",
   "execution_count": 18,
   "id": "8b92e94a",
   "metadata": {},
   "outputs": [
    {
     "name": "stdout",
     "output_type": "stream",
     "text": [
      "6\n"
     ]
    }
   ],
   "source": [
    "sr=pd.Series([1,2,3,4,5,6], index=['a','b','c','d','e','f'])\n",
    "print(sr[5])"
   ]
  },
  {
   "cell_type": "code",
   "execution_count": 20,
   "id": "06677a40",
   "metadata": {},
   "outputs": [
    {
     "name": "stdout",
     "output_type": "stream",
     "text": [
      "1\n",
      "23\n"
     ]
    }
   ],
   "source": [
    "# Using local index loc[] or iloc[]\n",
    "sr=pd.Series([1,23,4,5,66,7], index=[1,2,3,4,5,6])\n",
    "print(sr.loc[1])\n",
    "print(sr.iloc[1])\n"
   ]
  },
  {
   "cell_type": "markdown",
   "id": "be3fa96b",
   "metadata": {},
   "source": [
    "# Pandas DataFrame"
   ]
  },
  {
   "cell_type": "code",
   "execution_count": 22,
   "id": "ac742540",
   "metadata": {},
   "outputs": [
    {
     "data": {
      "text/html": [
       "<div>\n",
       "<style scoped>\n",
       "    .dataframe tbody tr th:only-of-type {\n",
       "        vertical-align: middle;\n",
       "    }\n",
       "\n",
       "    .dataframe tbody tr th {\n",
       "        vertical-align: top;\n",
       "    }\n",
       "\n",
       "    .dataframe thead th {\n",
       "        text-align: right;\n",
       "    }\n",
       "</style>\n",
       "<table border=\"1\" class=\"dataframe\">\n",
       "  <thead>\n",
       "    <tr style=\"text-align: right;\">\n",
       "      <th></th>\n",
       "      <th>age</th>\n",
       "      <th>color</th>\n",
       "    </tr>\n",
       "  </thead>\n",
       "  <tbody>\n",
       "    <tr>\n",
       "      <th>0</th>\n",
       "      <td>17</td>\n",
       "      <td>Blue</td>\n",
       "    </tr>\n",
       "    <tr>\n",
       "      <th>1</th>\n",
       "      <td>23</td>\n",
       "      <td>Red</td>\n",
       "    </tr>\n",
       "    <tr>\n",
       "      <th>2</th>\n",
       "      <td>33</td>\n",
       "      <td>Yellow</td>\n",
       "    </tr>\n",
       "  </tbody>\n",
       "</table>\n",
       "</div>"
      ],
      "text/plain": [
       "   age   color\n",
       "0   17    Blue\n",
       "1   23     Red\n",
       "2   33  Yellow"
      ]
     },
     "execution_count": 22,
     "metadata": {},
     "output_type": "execute_result"
    }
   ],
   "source": [
    "# Creating a dataframe from a dictionary\n",
    "df=pd.DataFrame({'age':[17,23,33],\n",
    "                'color':['Blue','Red','Yellow']})\n",
    "df"
   ]
  },
  {
   "cell_type": "code",
   "execution_count": 24,
   "id": "73ec89c0",
   "metadata": {},
   "outputs": [
    {
     "data": {
      "text/html": [
       "<div>\n",
       "<style scoped>\n",
       "    .dataframe tbody tr th:only-of-type {\n",
       "        vertical-align: middle;\n",
       "    }\n",
       "\n",
       "    .dataframe tbody tr th {\n",
       "        vertical-align: top;\n",
       "    }\n",
       "\n",
       "    .dataframe thead th {\n",
       "        text-align: right;\n",
       "    }\n",
       "</style>\n",
       "<table border=\"1\" class=\"dataframe\">\n",
       "  <thead>\n",
       "    <tr style=\"text-align: right;\">\n",
       "      <th></th>\n",
       "      <th>0</th>\n",
       "      <th>1</th>\n",
       "      <th>2</th>\n",
       "    </tr>\n",
       "  </thead>\n",
       "  <tbody>\n",
       "    <tr>\n",
       "      <th>0</th>\n",
       "      <td>17</td>\n",
       "      <td>21</td>\n",
       "      <td>33</td>\n",
       "    </tr>\n",
       "    <tr>\n",
       "      <th>1</th>\n",
       "      <td>22</td>\n",
       "      <td>45</td>\n",
       "      <td>71</td>\n",
       "    </tr>\n",
       "  </tbody>\n",
       "</table>\n",
       "</div>"
      ],
      "text/plain": [
       "    0   1   2\n",
       "0  17  21  33\n",
       "1  22  45  71"
      ]
     },
     "execution_count": 24,
     "metadata": {},
     "output_type": "execute_result"
    }
   ],
   "source": [
    "# Creating a dataframe from a Two Dimensional Array\n",
    "df=pd.DataFrame(data=([[17,21,33],\n",
    "                       [22,45,71]]))\n",
    "df"
   ]
  },
  {
   "cell_type": "code",
   "execution_count": 25,
   "id": "4a08460c",
   "metadata": {},
   "outputs": [
    {
     "data": {
      "text/html": [
       "<div>\n",
       "<style scoped>\n",
       "    .dataframe tbody tr th:only-of-type {\n",
       "        vertical-align: middle;\n",
       "    }\n",
       "\n",
       "    .dataframe tbody tr th {\n",
       "        vertical-align: top;\n",
       "    }\n",
       "\n",
       "    .dataframe thead th {\n",
       "        text-align: right;\n",
       "    }\n",
       "</style>\n",
       "<table border=\"1\" class=\"dataframe\">\n",
       "  <thead>\n",
       "    <tr style=\"text-align: right;\">\n",
       "      <th></th>\n",
       "      <th>0</th>\n",
       "      <th>1</th>\n",
       "      <th>2</th>\n",
       "    </tr>\n",
       "  </thead>\n",
       "  <tbody>\n",
       "    <tr>\n",
       "      <th>0</th>\n",
       "      <td>17</td>\n",
       "      <td>21</td>\n",
       "      <td>33</td>\n",
       "    </tr>\n",
       "    <tr>\n",
       "      <th>1</th>\n",
       "      <td>22</td>\n",
       "      <td>45</td>\n",
       "      <td>71</td>\n",
       "    </tr>\n",
       "  </tbody>\n",
       "</table>\n",
       "</div>"
      ],
      "text/plain": [
       "    0   1   2\n",
       "0  17  21  33\n",
       "1  22  45  71"
      ]
     },
     "execution_count": 25,
     "metadata": {},
     "output_type": "execute_result"
    }
   ],
   "source": [
    "# Creating a dataframe from a Two Dimensional Numpy Array\n",
    "ar=np.array([[17,21,33],\n",
    "             [22,45,71]])\n",
    "df=pd.DataFrame(data=ar)\n",
    "df"
   ]
  },
  {
   "cell_type": "code",
   "execution_count": 26,
   "id": "6b2c2b83",
   "metadata": {},
   "outputs": [
    {
     "data": {
      "text/html": [
       "<div>\n",
       "<style scoped>\n",
       "    .dataframe tbody tr th:only-of-type {\n",
       "        vertical-align: middle;\n",
       "    }\n",
       "\n",
       "    .dataframe tbody tr th {\n",
       "        vertical-align: top;\n",
       "    }\n",
       "\n",
       "    .dataframe thead th {\n",
       "        text-align: right;\n",
       "    }\n",
       "</style>\n",
       "<table border=\"1\" class=\"dataframe\">\n",
       "  <thead>\n",
       "    <tr style=\"text-align: right;\">\n",
       "      <th></th>\n",
       "      <th>c1</th>\n",
       "      <th>c2</th>\n",
       "      <th>c3</th>\n",
       "    </tr>\n",
       "  </thead>\n",
       "  <tbody>\n",
       "    <tr>\n",
       "      <th>A</th>\n",
       "      <td>17</td>\n",
       "      <td>21</td>\n",
       "      <td>33</td>\n",
       "    </tr>\n",
       "    <tr>\n",
       "      <th>B</th>\n",
       "      <td>22</td>\n",
       "      <td>45</td>\n",
       "      <td>71</td>\n",
       "    </tr>\n",
       "  </tbody>\n",
       "</table>\n",
       "</div>"
      ],
      "text/plain": [
       "   c1  c2  c3\n",
       "A  17  21  33\n",
       "B  22  45  71"
      ]
     },
     "execution_count": 26,
     "metadata": {},
     "output_type": "execute_result"
    }
   ],
   "source": [
    "# Creating a dataframe from a Two Dimensional Numpy Array\n",
    "ar=np.array([[17,21,33],\n",
    "             [22,45,71]])\n",
    "df=pd.DataFrame(data=ar, columns=['c1','c2','c3'],\n",
    "                index=['A','B'])\n",
    "df"
   ]
  },
  {
   "cell_type": "markdown",
   "id": "1d69d0d8",
   "metadata": {},
   "source": [
    "## Slicing columns, rows and values from pandas DataFrame"
   ]
  },
  {
   "cell_type": "code",
   "execution_count": 27,
   "id": "024cd5a1",
   "metadata": {},
   "outputs": [
    {
     "data": {
      "text/plain": [
       "A    17\n",
       "B    22\n",
       "Name: c1, dtype: int64"
      ]
     },
     "execution_count": 27,
     "metadata": {},
     "output_type": "execute_result"
    }
   ],
   "source": [
    "# Accessing columns\n",
    "df['c1']"
   ]
  },
  {
   "cell_type": "code",
   "execution_count": 29,
   "id": "7ee96775",
   "metadata": {},
   "outputs": [
    {
     "data": {
      "text/plain": [
       "c1    22\n",
       "c2    45\n",
       "c3    71\n",
       "Name: B, dtype: int64"
      ]
     },
     "execution_count": 29,
     "metadata": {},
     "output_type": "execute_result"
    }
   ],
   "source": [
    "# Accessing rows using loc\n",
    "df.loc['B']"
   ]
  },
  {
   "cell_type": "code",
   "execution_count": 30,
   "id": "a530e4f5",
   "metadata": {},
   "outputs": [
    {
     "data": {
      "text/plain": [
       "c1    22\n",
       "c2    45\n",
       "c3    71\n",
       "Name: B, dtype: int64"
      ]
     },
     "execution_count": 30,
     "metadata": {},
     "output_type": "execute_result"
    }
   ],
   "source": [
    "# Accessing rows using iloc\n",
    "df.iloc[1]"
   ]
  },
  {
   "cell_type": "code",
   "execution_count": 37,
   "id": "ac58c4f2",
   "metadata": {},
   "outputs": [
    {
     "data": {
      "text/plain": [
       "array([[17, 21, 33],\n",
       "       [22, 45, 71]])"
      ]
     },
     "execution_count": 37,
     "metadata": {},
     "output_type": "execute_result"
    }
   ],
   "source": [
    "# Accessing values\n",
    "df.values"
   ]
  },
  {
   "cell_type": "code",
   "execution_count": 38,
   "id": "b5556805",
   "metadata": {},
   "outputs": [
    {
     "data": {
      "text/plain": [
       "array([22, 45, 71])"
      ]
     },
     "execution_count": 38,
     "metadata": {},
     "output_type": "execute_result"
    }
   ],
   "source": [
    "df.values[1]"
   ]
  },
  {
   "cell_type": "code",
   "execution_count": 39,
   "id": "080eba35",
   "metadata": {},
   "outputs": [
    {
     "data": {
      "text/plain": [
       "71"
      ]
     },
     "execution_count": 39,
     "metadata": {},
     "output_type": "execute_result"
    }
   ],
   "source": [
    "df.values[1,2]"
   ]
  },
  {
   "cell_type": "markdown",
   "id": "497ce73f",
   "metadata": {},
   "source": [
    "### Summary"
   ]
  },
  {
   "cell_type": "markdown",
   "id": "8b2f3258",
   "metadata": {},
   "source": [
    "Accessing columns:\n",
    "df[column label]  e.g. df['c1']\n",
    "\n",
    "Accessing rows:\n",
    "1. df.loc[index label] e.g. df['A'] \n",
    "2. df.iloc[index_num] e.g. df.iloc[0]\n",
    "\n",
    "Accessing Values:\n",
    "df.values[index] . e.g. df.values[1,2]"
   ]
  }
 ],
 "metadata": {
  "kernelspec": {
   "display_name": "Python 3 (ipykernel)",
   "language": "python",
   "name": "python3"
  },
  "language_info": {
   "codemirror_mode": {
    "name": "ipython",
    "version": 3
   },
   "file_extension": ".py",
   "mimetype": "text/x-python",
   "name": "python",
   "nbconvert_exporter": "python",
   "pygments_lexer": "ipython3",
   "version": "3.10.8"
  },
  "vscode": {
   "interpreter": {
    "hash": "6d3455b64add104533d44b8de3a67406353957e0918ca2161a30cd043c50dfdc"
   }
  }
 },
 "nbformat": 4,
 "nbformat_minor": 5
}

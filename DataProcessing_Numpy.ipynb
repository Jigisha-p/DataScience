{
 "cells": [
  {
   "cell_type": "code",
   "execution_count": 1,
   "id": "1da90d5c-401f-41c9-aabb-d9467b273e28",
   "metadata": {},
   "outputs": [],
   "source": [
    "import numpy as np"
   ]
  },
  {
   "cell_type": "code",
   "execution_count": 2,
   "id": "a6f22db8-6119-44c0-b4ee-d93a5ff7d55b",
   "metadata": {},
   "outputs": [
    {
     "name": "stdout",
     "output_type": "stream",
     "text": [
      "[12 34 56]\n"
     ]
    }
   ],
   "source": [
    "#Creating One Dimensional Array\n",
    "ar=np.array([12,34,56])\n",
    "print(ar)"
   ]
  },
  {
   "cell_type": "code",
   "execution_count": 3,
   "id": "f2e0d8f8",
   "metadata": {},
   "outputs": [
    {
     "name": "stdout",
     "output_type": "stream",
     "text": [
      "[[[12 34 56]\n",
      "  [34 33 67]]]\n",
      "<class 'numpy.ndarray'>\n"
     ]
    }
   ],
   "source": [
    "#Creating Three Dimensional from a Two Dimensional Array using parameter ndmin=3\n",
    "ar=np.array([[12,34,56],\n",
    "             [34,33,67]],ndmin=3)\n",
    "print(ar)\n",
    "print(type(ar))"
   ]
  },
  {
   "cell_type": "code",
   "execution_count": 4,
   "id": "b414e8b0",
   "metadata": {},
   "outputs": [
    {
     "name": "stdout",
     "output_type": "stream",
     "text": [
      "[[[12 34 56]\n",
      "  [34 33 67]]\n",
      "\n",
      " [[12 34 56]\n",
      "  [34 33 67]]]\n",
      "<class 'numpy.ndarray'>\n"
     ]
    }
   ],
   "source": [
    "# Three Dimensional Array with two Two-Dimensional array\n",
    "ar=np.array([[[12,34,56],\n",
    "             [34,33,67]],\n",
    "             [[12,34,56],\n",
    "             [34,33,67]]],ndmin=3)\n",
    "print(ar)\n",
    "print(type(ar))"
   ]
  },
  {
   "cell_type": "code",
   "execution_count": 5,
   "id": "063cf145",
   "metadata": {},
   "outputs": [
    {
     "name": "stdout",
     "output_type": "stream",
     "text": [
      "[[[12. 34. 56.]\n",
      "  [34. 33. 67.]]\n",
      "\n",
      " [[12. 34. 56.]\n",
      "  [34. 33. 67.]]]\n",
      "<class 'numpy.ndarray'>\n"
     ]
    }
   ],
   "source": [
    "# Three Dimensional Array with Float values\n",
    "ar=np.array([[[12,34,56],\n",
    "             [34,33,67]],\n",
    "             [[12,34,56],\n",
    "             [34,33,67]]],dtype=float)\n",
    "print(ar)\n",
    "print(type(ar))"
   ]
  },
  {
   "cell_type": "code",
   "execution_count": 6,
   "id": "f18390ec",
   "metadata": {},
   "outputs": [
    {
     "name": "stdout",
     "output_type": "stream",
     "text": [
      "[ 6 28 50 11]\n"
     ]
    }
   ],
   "source": [
    "# Array Operations - Addition\n",
    "ar=np.array([1,23,45,6])\n",
    "Ar=ar+5\n",
    "            \n",
    "print(Ar)\n"
   ]
  },
  {
   "cell_type": "code",
   "execution_count": 7,
   "id": "e0bac8ff",
   "metadata": {},
   "outputs": [],
   "source": [
    "# One Dimensional Array ar1, Two Dimensional Array ar2, Three Dimensional Array ar3\n",
    "ar1=np.array([1,23,45,6])\n",
    "ar2=np.array([[1,2,4],[2,5,6]])\n",
    "ar3=np.array([[[1,2,4],\n",
    "               [2,5,6]],\n",
    "              [[3,6,9],\n",
    "               [9,0,1]]])\n",
    "            "
   ]
  },
  {
   "cell_type": "code",
   "execution_count": 8,
   "id": "cb8e35a9",
   "metadata": {},
   "outputs": [
    {
     "data": {
      "text/plain": [
       "45"
      ]
     },
     "execution_count": 8,
     "metadata": {},
     "output_type": "execute_result"
    }
   ],
   "source": [
    "#Accessing elements of One Dimensional Array \n",
    "ar1[2]"
   ]
  },
  {
   "cell_type": "code",
   "execution_count": 9,
   "id": "89cc33f7",
   "metadata": {},
   "outputs": [
    {
     "data": {
      "text/plain": [
       "6"
      ]
     },
     "execution_count": 9,
     "metadata": {},
     "output_type": "execute_result"
    }
   ],
   "source": [
    "#Accessing elements of Two Dimensional Array \n",
    "ar2[1,2]"
   ]
  },
  {
   "cell_type": "code",
   "execution_count": 10,
   "id": "84550e2c",
   "metadata": {},
   "outputs": [
    {
     "data": {
      "text/plain": [
       "9"
      ]
     },
     "execution_count": 10,
     "metadata": {},
     "output_type": "execute_result"
    }
   ],
   "source": [
    "#Accessing elements of Three Dimensional Array \n",
    "ar3[1,1,0]"
   ]
  }
 ],
 "metadata": {
  "kernelspec": {
   "display_name": "Python 3 (ipykernel)",
   "language": "python",
   "name": "python3"
  },
  "language_info": {
   "codemirror_mode": {
    "name": "ipython",
    "version": 3
   },
   "file_extension": ".py",
   "mimetype": "text/x-python",
   "name": "python",
   "nbconvert_exporter": "python",
   "pygments_lexer": "ipython3",
   "version": "3.10.6"
  },
  "vscode": {
   "interpreter": {
    "hash": "6d3455b64add104533d44b8de3a67406353957e0918ca2161a30cd043c50dfdc"
   }
  }
 },
 "nbformat": 4,
 "nbformat_minor": 5
}
